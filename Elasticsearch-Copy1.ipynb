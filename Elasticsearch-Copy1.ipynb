{
 "cells": [
  {
   "cell_type": "code",
   "execution_count": 149,
   "metadata": {},
   "outputs": [],
   "source": [
    "import pandas as pd\n",
    "import numpy as np\n",
    "%config Completer.use_jedi = False\n",
    "from elasticsearch import Elasticsearch, RequestsHttpConnection\n",
    "from requests_aws4auth import AWS4Auth\n",
    "import boto3\n",
    "host = '52.90.189.105'\n",
    "region = 'us-east-1'\n",
    "\n",
    "import os\n",
    "import sys\n",
    "\n",
    "from elasticsearch import helpers\n",
    "import pandas as pd\n",
    "import json\n",
    "import unicodedata"
   ]
  },
  {
   "cell_type": "code",
   "execution_count": 150,
   "metadata": {},
   "outputs": [
    {
     "data": {
      "text/plain": [
       "(7, 12, 0)"
      ]
     },
     "execution_count": 150,
     "metadata": {},
     "output_type": "execute_result"
    }
   ],
   "source": [
    "import elasticsearch\n",
    "#import streamlit as st\n",
    "elasticsearch.__version__"
   ]
  },
  {
   "cell_type": "code",
   "execution_count": 276,
   "metadata": {},
   "outputs": [
    {
     "name": "stderr",
     "output_type": "stream",
     "text": [
      "2021-04-30 23:24:17.663 INFO    elasticsearch: HEAD http://52.90.189.105:9200/ [status:200 request:0.065s]\n"
     ]
    },
    {
     "name": "stdout",
     "output_type": "stream",
     "text": [
      "Yupiee  Connected \n"
     ]
    }
   ],
   "source": [
    "\n",
    "def connect_elasticsearch():\n",
    "    es = None\n",
    "    es = Elasticsearch([{'host': host, 'port': 9200}])\n",
    "    if es.ping():\n",
    "        print('Yupiee  Connected ')\n",
    "    else:\n",
    "        print('Awww it could not connect!')\n",
    "    return es\n",
    "es = connect_elasticsearch()"
   ]
  },
  {
   "cell_type": "code",
   "execution_count": 306,
   "metadata": {},
   "outputs": [],
   "source": [
    "df = pd.read_csv('elastic.csv')"
   ]
  },
  {
   "cell_type": "code",
   "execution_count": 307,
   "metadata": {},
   "outputs": [
    {
     "data": {
      "text/plain": [
       "Index(['article_id', 'article_url', 'title', 'subtitle', 'claps', 'responses',\n",
       "       'reading_time', 'tag', 'date', 'pro_title'],\n",
       "      dtype='object')"
      ]
     },
     "execution_count": 307,
     "metadata": {},
     "output_type": "execute_result"
    }
   ],
   "source": [
    "df.columns"
   ]
  },
  {
   "cell_type": "code",
   "execution_count": 308,
   "metadata": {},
   "outputs": [],
   "source": [
    "df = df.drop(['article_id','pro_title', 'date','responses'], axis = 1)"
   ]
  },
  {
   "cell_type": "code",
   "execution_count": 292,
   "metadata": {},
   "outputs": [],
   "source": [
    "def title_processing(text):\n",
    "    clean = re.compile('<.*?>')\n",
    "    text = re.sub(clean, '', text)\n",
    "    text = unicodedata.normalize(\"NFKD\", text)\n",
    "    return text"
   ]
  },
  {
   "cell_type": "code",
   "execution_count": 303,
   "metadata": {},
   "outputs": [],
   "source": [
    "s = '<strong class=\"markup--strong markup--h4-strong\">Why data science is important nowadays ?</strong>'\n"
   ]
  },
  {
   "cell_type": "code",
   "execution_count": 304,
   "metadata": {},
   "outputs": [
    {
     "data": {
      "text/plain": [
       "'Why data science is important nowadays ?'"
      ]
     },
     "execution_count": 304,
     "metadata": {},
     "output_type": "execute_result"
    }
   ],
   "source": [
    "title_processing(s)"
   ]
  },
  {
   "cell_type": "code",
   "execution_count": 309,
   "metadata": {},
   "outputs": [],
   "source": [
    "df.loc[:,'subtitle']= df.loc[:,'subtitle'].apply(title_processing)"
   ]
  },
  {
   "cell_type": "code",
   "execution_count": 310,
   "metadata": {},
   "outputs": [],
   "source": [
    "def generator_1(data):\n",
    "    for c, line in enumerate(data):\n",
    "        yield {\n",
    "            \"_index\":\"mediumarticle\",\n",
    "            \"_type\":\"doc\",\n",
    "            \"_id\": c,\n",
    "            \"_soucre\":{\n",
    "                \"title\": line.get(\"title\",\"\"),\n",
    "                \"subtitle\": line.get(\"subtitle\",\"\"),\n",
    "                \"tag\":line.get(\"tag\",\"\"),\n",
    "                \"reading_time\": line.get(\"reading_time\",\"\"),\n",
    "                \"article_url\": line.get(\"article_url\", \"\"),\n",
    "                \"claps\": line.get(\"claps\", \"\")\n",
    "            }\n",
    "        }\n",
    "    raise StopIteration"
   ]
  },
  {
   "cell_type": "code",
   "execution_count": 311,
   "metadata": {},
   "outputs": [
    {
     "name": "stderr",
     "output_type": "stream",
     "text": [
      "C:\\ProgramData\\Anaconda3\\lib\\site-packages\\pandas\\core\\frame.py:1485: FutureWarning: Using short name for 'orient' is deprecated. Only the options: ('dict', list, 'series', 'split', 'records', 'index') will be used in a future version. Use one of the above to silence this warning.\n",
      "  warnings.warn(\n"
     ]
    }
   ],
   "source": [
    "data = df.to_dict('reocrds')\n",
    "data = generator_1(data)\n"
   ]
  },
  {
   "cell_type": "code",
   "execution_count": 312,
   "metadata": {},
   "outputs": [],
   "source": [
    "first = next(data)\n"
   ]
  },
  {
   "cell_type": "code",
   "execution_count": 313,
   "metadata": {},
   "outputs": [
    {
     "data": {
      "text/plain": [
       "{'_index': 'mediumarticle',\n",
       " '_type': 'doc',\n",
       " '_id': 0,\n",
       " '_soucre': {'title': 'Calculating String Similarity in Python',\n",
       "  'subtitle': 'Learn how to group together similar strings, and also how to...',\n",
       "  'tag': 'Machine Learning',\n",
       "  'reading_time': 7,\n",
       "  'article_url': 'https://towardsdatascience.com/calculating-string-similarity-in-python-276e18a7d33a',\n",
       "  'claps': 605}}"
      ]
     },
     "execution_count": 313,
     "metadata": {},
     "output_type": "execute_result"
    }
   ],
   "source": [
    "first"
   ]
  },
  {
   "cell_type": "code",
   "execution_count": 314,
   "metadata": {},
   "outputs": [
    {
     "name": "stderr",
     "output_type": "stream",
     "text": [
      "2021-04-30 23:33:25.215 INFO    elasticsearch: PUT http://52.90.189.105:9200/mediumarticle/doc/0 [status:200 request:0.029s]\n"
     ]
    },
    {
     "data": {
      "text/plain": [
       "{'_index': 'mediumarticle',\n",
       " '_type': 'doc',\n",
       " '_id': '0',\n",
       " '_version': 3,\n",
       " 'created': False}"
      ]
     },
     "execution_count": 314,
     "metadata": {},
     "output_type": "execute_result"
    }
   ],
   "source": [
    "es.index(index = 'mediumarticle', doc_type= 'doc', body = first, id = 0)\n"
   ]
  },
  {
   "cell_type": "code",
   "execution_count": 315,
   "metadata": {},
   "outputs": [
    {
     "name": "stderr",
     "output_type": "stream",
     "text": [
      "2021-04-30 23:33:27.225 INFO    elasticsearch: POST http://52.90.189.105:9200/_bulk [status:200 request:0.212s]\n",
      "2021-04-30 23:33:27.385 INFO    elasticsearch: POST http://52.90.189.105:9200/_bulk [status:200 request:0.146s]\n",
      "2021-04-30 23:33:27.540 INFO    elasticsearch: POST http://52.90.189.105:9200/_bulk [status:200 request:0.143s]\n",
      "2021-04-30 23:33:27.689 INFO    elasticsearch: POST http://52.90.189.105:9200/_bulk [status:200 request:0.135s]\n",
      "2021-04-30 23:33:27.831 INFO    elasticsearch: POST http://52.90.189.105:9200/_bulk [status:200 request:0.130s]\n",
      "2021-04-30 23:33:28.018 INFO    elasticsearch: POST http://52.90.189.105:9200/_bulk [status:200 request:0.175s]\n",
      "2021-04-30 23:33:28.165 INFO    elasticsearch: POST http://52.90.189.105:9200/_bulk [status:200 request:0.135s]\n",
      "2021-04-30 23:33:28.314 INFO    elasticsearch: POST http://52.90.189.105:9200/_bulk [status:200 request:0.137s]\n",
      "2021-04-30 23:33:28.506 INFO    elasticsearch: POST http://52.90.189.105:9200/_bulk [status:200 request:0.179s]\n",
      "2021-04-30 23:33:28.681 INFO    elasticsearch: POST http://52.90.189.105:9200/_bulk [status:200 request:0.162s]\n",
      "2021-04-30 23:33:28.834 INFO    elasticsearch: POST http://52.90.189.105:9200/_bulk [status:200 request:0.140s]\n",
      "2021-04-30 23:33:28.980 INFO    elasticsearch: POST http://52.90.189.105:9200/_bulk [status:200 request:0.134s]\n",
      "2021-04-30 23:33:29.133 INFO    elasticsearch: POST http://52.90.189.105:9200/_bulk [status:200 request:0.141s]\n",
      "2021-04-30 23:33:29.275 INFO    elasticsearch: POST http://52.90.189.105:9200/_bulk [status:200 request:0.130s]\n",
      "2021-04-30 23:33:29.422 INFO    elasticsearch: POST http://52.90.189.105:9200/_bulk [status:200 request:0.136s]\n",
      "2021-04-30 23:33:29.566 INFO    elasticsearch: POST http://52.90.189.105:9200/_bulk [status:200 request:0.130s]\n",
      "2021-04-30 23:33:29.715 INFO    elasticsearch: POST http://52.90.189.105:9200/_bulk [status:200 request:0.137s]\n",
      "2021-04-30 23:33:29.857 INFO    elasticsearch: POST http://52.90.189.105:9200/_bulk [status:200 request:0.130s]\n",
      "2021-04-30 23:33:30.003 INFO    elasticsearch: POST http://52.90.189.105:9200/_bulk [status:200 request:0.132s]\n",
      "2021-04-30 23:33:30.162 INFO    elasticsearch: POST http://52.90.189.105:9200/_bulk [status:200 request:0.147s]\n",
      "2021-04-30 23:33:30.310 INFO    elasticsearch: POST http://52.90.189.105:9200/_bulk [status:200 request:0.135s]\n",
      "2021-04-30 23:33:30.453 INFO    elasticsearch: POST http://52.90.189.105:9200/_bulk [status:200 request:0.130s]\n",
      "2021-04-30 23:33:30.595 INFO    elasticsearch: POST http://52.90.189.105:9200/_bulk [status:200 request:0.130s]\n",
      "2021-04-30 23:33:30.738 INFO    elasticsearch: POST http://52.90.189.105:9200/_bulk [status:200 request:0.130s]\n",
      "2021-04-30 23:33:30.888 INFO    elasticsearch: POST http://52.90.189.105:9200/_bulk [status:200 request:0.137s]\n",
      "2021-04-30 23:33:31.049 INFO    elasticsearch: POST http://52.90.189.105:9200/_bulk [status:200 request:0.147s]\n",
      "2021-04-30 23:33:31.196 INFO    elasticsearch: POST http://52.90.189.105:9200/_bulk [status:200 request:0.134s]\n",
      "2021-04-30 23:33:31.346 INFO    elasticsearch: POST http://52.90.189.105:9200/_bulk [status:200 request:0.137s]\n",
      "2021-04-30 23:33:31.486 INFO    elasticsearch: POST http://52.90.189.105:9200/_bulk [status:200 request:0.126s]\n",
      "2021-04-30 23:33:31.631 INFO    elasticsearch: POST http://52.90.189.105:9200/_bulk [status:200 request:0.132s]\n",
      "2021-04-30 23:33:31.776 INFO    elasticsearch: POST http://52.90.189.105:9200/_bulk [status:200 request:0.133s]\n",
      "2021-04-30 23:33:31.919 INFO    elasticsearch: POST http://52.90.189.105:9200/_bulk [status:200 request:0.131s]\n",
      "2021-04-30 23:33:32.083 INFO    elasticsearch: POST http://52.90.189.105:9200/_bulk [status:200 request:0.150s]\n",
      "2021-04-30 23:33:32.260 INFO    elasticsearch: POST http://52.90.189.105:9200/_bulk [status:200 request:0.163s]\n",
      "2021-04-30 23:33:32.411 INFO    elasticsearch: POST http://52.90.189.105:9200/_bulk [status:200 request:0.138s]\n",
      "2021-04-30 23:33:32.560 INFO    elasticsearch: POST http://52.90.189.105:9200/_bulk [status:200 request:0.136s]\n",
      "2021-04-30 23:33:32.707 INFO    elasticsearch: POST http://52.90.189.105:9200/_bulk [status:200 request:0.133s]\n",
      "2021-04-30 23:33:32.856 INFO    elasticsearch: POST http://52.90.189.105:9200/_bulk [status:200 request:0.135s]\n",
      "2021-04-30 23:33:33.000 INFO    elasticsearch: POST http://52.90.189.105:9200/_bulk [status:200 request:0.131s]\n",
      "2021-04-30 23:33:33.182 INFO    elasticsearch: POST http://52.90.189.105:9200/_bulk [status:200 request:0.170s]\n",
      "2021-04-30 23:33:33.342 INFO    elasticsearch: POST http://52.90.189.105:9200/_bulk [status:200 request:0.148s]\n",
      "2021-04-30 23:33:33.490 INFO    elasticsearch: POST http://52.90.189.105:9200/_bulk [status:200 request:0.134s]\n",
      "2021-04-30 23:33:33.646 INFO    elasticsearch: POST http://52.90.189.105:9200/_bulk [status:200 request:0.144s]\n",
      "2021-04-30 23:33:33.790 INFO    elasticsearch: POST http://52.90.189.105:9200/_bulk [status:200 request:0.131s]\n"
     ]
    }
   ],
   "source": [
    "try:\n",
    "    res = helpers.bulk(es,data)\n",
    "    print('working')\n",
    "except Exception as e:\n",
    "    pass"
   ]
  },
  {
   "cell_type": "code",
   "execution_count": 289,
   "metadata": {},
   "outputs": [
    {
     "name": "stderr",
     "output_type": "stream",
     "text": [
      "2021-04-30 23:26:26.460 INFO    elasticsearch: POST http://52.90.189.105:9200/mediumarticle/doc/_search [status:200 request:0.033s]\n"
     ]
    },
    {
     "data": {
      "text/plain": [
       "{'took': 3,\n",
       " 'timed_out': False,\n",
       " '_shards': {'total': 5, 'successful': 5, 'failed': 0},\n",
       " 'hits': {'total': 1,\n",
       "  'max_score': None,\n",
       "  'hits': [{'_index': 'mediumarticle',\n",
       "    '_type': 'doc',\n",
       "    '_id': '0',\n",
       "    '_score': None,\n",
       "    '_source': {'_index': 'mediumarticle',\n",
       "     '_type': 'doc',\n",
       "     '_id': 0,\n",
       "     '_soucre': {'title': 'Calculating String Similarity in Python',\n",
       "      'subtitle': 'Learn how to group together similar strings, and also how\\xa0to…',\n",
       "      'tag': 'Machine Learning',\n",
       "      'reading_time': 7,\n",
       "      'article_url': 'https://towardsdatascience.com/calculating-string-similarity-in-python-276e18a7d33a',\n",
       "      'claps': 605}},\n",
       "    'sort': [605]}]}}"
      ]
     },
     "execution_count": 289,
     "metadata": {},
     "output_type": "execute_result"
    }
   ],
   "source": [
    "es.search(index = 'mediumarticle', doc_type= 'doc', body = { 'sort':{\"claps\":{\"order\":\"desc\"}},'size':2,'query':{'match':{\"title\": \"calculating\"}}})"
   ]
  },
  {
   "cell_type": "code",
   "execution_count": 240,
   "metadata": {},
   "outputs": [],
   "source": [
    "def query_func(userinput):\n",
    "    articles = []\n",
    "    results = es.search(index = 'mediumarticle', doc_type= 'doc', body = { 'size':5,'query':{'match':{\"title\": userinput}}})\n",
    "    hits = results['hits']['hits']\n",
    "        \n",
    "    for i in range(len(hits)):\n",
    "        articles.append(hits[i]['_source']['_soucre'])\n",
    "       \n",
    "    return articles"
   ]
  },
  {
   "cell_type": "code",
   "execution_count": 316,
   "metadata": {},
   "outputs": [
    {
     "name": "stderr",
     "output_type": "stream",
     "text": [
      "2021-04-30 23:34:01.650 INFO    elasticsearch: POST http://52.90.189.105:9200/mediumarticle/doc/_search [status:200 request:0.034s]\n"
     ]
    },
    {
     "data": {
      "text/plain": [
       "{'took': 3,\n",
       " 'timed_out': False,\n",
       " '_shards': {'total': 5, 'successful': 5, 'failed': 0},\n",
       " 'hits': {'total': 604,\n",
       "  'max_score': 3.816065,\n",
       "  'hits': [{'_index': 'mediumarticle',\n",
       "    '_type': 'doc',\n",
       "    '_id': '13075',\n",
       "    '_score': 3.816065,\n",
       "    '_source': {'_soucre': {'title': 'Data Science Vs Data Analysis',\n",
       "      'subtitle': 'The Difference Between Data Science and Data Analysis.',\n",
       "      'tag': 'Machine Learning',\n",
       "      'reading_time': 3,\n",
       "      'article_url': 'https://medium.com/badatya-blog/data-science-vs-data-analysis-7652f9f981ac',\n",
       "      'claps': 8}}},\n",
       "   {'_index': 'mediumarticle',\n",
       "    '_type': 'doc',\n",
       "    '_id': '19059',\n",
       "    '_score': 3.816065,\n",
       "    '_source': {'_soucre': {'title': 'Data science without any data ',\n",
       "      'subtitle': 'Why it’s important to hire data engineers early',\n",
       "      'tag': 'Business',\n",
       "      'reading_time': 6,\n",
       "      'article_url': 'https://towardsdatascience.com/data-science-without-any-data-6c1ae9509d92',\n",
       "      'claps': 1100}}},\n",
       "   {'_index': 'mediumarticle',\n",
       "    '_type': 'doc',\n",
       "    '_id': '5327',\n",
       "    '_score': 3.7048037,\n",
       "    '_source': {'_soucre': {'title': 'Master Data Science in ',\n",
       "      'subtitle': 'Nothing is too hard to learn.',\n",
       "      'tag': 'Machine Learning',\n",
       "      'reading_time': 3,\n",
       "      'article_url': 'https://medium.com/@pchojecki/master-data-science-in-2020-7f2a77f34f88',\n",
       "      'claps': 29}}},\n",
       "   {'_index': 'mediumarticle',\n",
       "    '_type': 'doc',\n",
       "    '_id': '13715',\n",
       "    '_score': 3.7048037,\n",
       "    '_source': {'_soucre': {'title': 'Spatial Data Science Simplified',\n",
       "      'subtitle': 'And what tools to use to perform it',\n",
       "      'tag': 'Machine Learning',\n",
       "      'reading_time': 3,\n",
       "      'article_url': 'https://pub.towardsai.net/spatial-data-science-simplified-7c5dbe843f15',\n",
       "      'claps': 173}}},\n",
       "   {'_index': 'mediumarticle',\n",
       "    '_type': 'doc',\n",
       "    '_id': '14585',\n",
       "    '_score': 3.7048037,\n",
       "    '_source': {'_soucre': {'title': 'Data Science простыми словами',\n",
       "      'subtitle': 'Наука о данных — это раздел информатики, изучающий проблемы анализа...',\n",
       "      'tag': 'Machine Learning',\n",
       "      'reading_time': 2,\n",
       "      'article_url': 'https://medium.com/@mlaccessible/data-science-%D0%BF%D1%80%D0%BE%D1%81%D1%82%D1%8B%D0%BC%D0%B8-%D1%81%D0%BB%D0%BE%D0%B2%D0%B0%D0%BC%D0%B8-700e73505c86',\n",
       "      'claps': 1}}}]}}"
      ]
     },
     "execution_count": 316,
     "metadata": {},
     "output_type": "execute_result"
    }
   ],
   "source": [
    "es.search(index = 'mediumarticle', doc_type= 'doc', body = { 'size':5,'query':{'match':{\"title\": 'data science'}}})\n"
   ]
  },
  {
   "cell_type": "code",
   "execution_count": 241,
   "metadata": {},
   "outputs": [
    {
     "name": "stderr",
     "output_type": "stream",
     "text": [
      "2021-04-30 21:41:01.625 INFO    elasticsearch: POST http://52.90.189.105:9200/mediumarticle/doc/_search [status:200 request:0.032s]\n"
     ]
    },
    {
     "data": {
      "text/plain": [
       "[{'title': 'Python Everyday',\n",
       "  'subtitle': ' strong class markup strong markup h strong code optimization interview and more strong ',\n",
       "  'tag': 'Machine Learning',\n",
       "  'reading_time': 7,\n",
       "  'article_url': 'https://towardsdatascience.com/python-everyday-fa8946524532',\n",
       "  'claps': 288},\n",
       " {'title': 'TURF Analysis in Python',\n",
       "  'subtitle': 'a simple tool for statistical analysis',\n",
       "  'tag': 'Marketing',\n",
       "  'reading_time': 3,\n",
       "  'article_url': 'https://medium.com/analytics-vidhya/turf-analysis-in-python-d8368f06c050',\n",
       "  'claps': 5},\n",
       " {'title': 'Python Programming: Day 1',\n",
       "  'subtitle': 'coming soon ',\n",
       "  'tag': 'Machine Learning',\n",
       "  'reading_time': 5,\n",
       "  'article_url': 'https://medium.com/@rsaimurali/python-programming-day-1-bd57bceb2030',\n",
       "  'claps': 0},\n",
       " {'title': 'DECISION TREES IN PYTHON',\n",
       "  'subtitle': 'decision tree is a common machine learning algorithm used to ',\n",
       "  'tag': 'Machine Learning',\n",
       "  'reading_time': 3,\n",
       "  'article_url': 'https://medium.com/@aadish-jain-88204/decision-trees-in-python-d5019fa3cbc8',\n",
       "  'claps': 1},\n",
       " {'title': 'Formatting Strings in Python',\n",
       "  'subtitle': 'how to use the format method and f in python',\n",
       "  'tag': 'Technology',\n",
       "  'reading_time': 3,\n",
       "  'article_url': 'https://towardsdatascience.com/formatting-strings-in-python-6e014bdd1663',\n",
       "  'claps': 104}]"
      ]
     },
     "execution_count": 241,
     "metadata": {},
     "output_type": "execute_result"
    }
   ],
   "source": [
    "query_func('python')"
   ]
  },
  {
   "cell_type": "code",
   "execution_count": null,
   "metadata": {},
   "outputs": [],
   "source": []
  }
 ],
 "metadata": {
  "kernelspec": {
   "display_name": "Python 3",
   "language": "python",
   "name": "python3"
  },
  "language_info": {
   "codemirror_mode": {
    "name": "ipython",
    "version": 3
   },
   "file_extension": ".py",
   "mimetype": "text/x-python",
   "name": "python",
   "nbconvert_exporter": "python",
   "pygments_lexer": "ipython3",
   "version": "3.8.5"
  }
 },
 "nbformat": 4,
 "nbformat_minor": 4
}
